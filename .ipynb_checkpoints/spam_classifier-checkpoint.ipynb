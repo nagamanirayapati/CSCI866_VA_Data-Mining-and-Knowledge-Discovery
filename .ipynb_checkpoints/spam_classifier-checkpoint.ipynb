{
 "cells": [
  {
   "cell_type": "markdown",
   "id": "9e1817a3dc6481",
   "metadata": {},
   "source": "Import Libraries"
  },
  {
   "cell_type": "code",
   "id": "891f4fbf52b8918d",
   "metadata": {
    "tags": [],
    "ExecuteTime": {
     "end_time": "2025-05-02T21:52:04.222311Z",
     "start_time": "2025-05-02T21:52:00.496759Z"
    }
   },
   "source": [
    "# Import necessary libraries\n",
    "import pandas as pd\n",
    "import matplotlib.pyplot as plt\n",
    "import seaborn as sns\n",
    "import re\n",
    "import pickle\n",
    "import nltk\n",
    "from nltk.corpus import stopwords\n",
    "from nltk.stem.porter import PorterStemmer\n",
    "from sklearn.feature_extraction.text import CountVectorizer\n",
    "from sklearn.model_selection import train_test_split\n",
    "from sklearn.ensemble import RandomForestClassifier\n",
    "from sklearn.tree import DecisionTreeClassifier\n",
    "from sklearn.naive_bayes import MultinomialNB\n",
    "from sklearn.metrics import confusion_matrix, classification_report, accuracy_score"
   ],
   "outputs": [],
   "execution_count": 2
  },
  {
   "cell_type": "markdown",
   "id": "df28a276b54049f6",
   "metadata": {},
   "source": "Download NLTK stopwords"
  },
  {
   "cell_type": "code",
   "id": "5032e1a3492423a8",
   "metadata": {
    "ExecuteTime": {
     "end_time": "2025-05-02T21:52:08.316232Z",
     "start_time": "2025-05-02T21:52:08.154960Z"
    }
   },
   "source": [
    "# Download stopwords\n",
    "nltk.download('stopwords')\n"
   ],
   "outputs": [
    {
     "name": "stderr",
     "output_type": "stream",
     "text": [
      "[nltk_data] Downloading package stopwords to\n",
      "[nltk_data]     /Users/sivaramakrishnalinga/nltk_data...\n",
      "[nltk_data]   Package stopwords is already up-to-date!\n"
     ]
    },
    {
     "data": {
      "text/plain": [
       "True"
      ]
     },
     "execution_count": 3,
     "metadata": {},
     "output_type": "execute_result"
    }
   ],
   "execution_count": 3
  },
  {
   "metadata": {},
   "cell_type": "markdown",
   "source": "Load Dataset",
   "id": "228084e336fc36a1"
  },
  {
   "cell_type": "code",
   "id": "ab0495df26a9824e",
   "metadata": {
    "ExecuteTime": {
     "end_time": "2025-05-02T21:52:10.568925Z",
     "start_time": "2025-05-02T21:52:10.490089Z"
    }
   },
   "source": [
    "# Load the dataset\n",
    "spam = pd.read_csv(\"spam.csv\")\n",
    "\n",
    "# Check for null values\n",
    "print(spam.isnull().sum())\n",
    "\n",
    "# View first few rows\n",
    "print(spam.head())\n"
   ],
   "outputs": [
    {
     "name": "stdout",
     "output_type": "stream",
     "text": [
      "v1    0\n",
      "v2    0\n",
      "dtype: int64\n",
      "     v1                                                 v2\n",
      "0   ham  Go until jurong point, crazy.. Available only ...\n",
      "1   ham                      Ok lar... Joking wif u oni...\n",
      "2  spam  Free entry in 2 a wkly comp to win FA Cup fina...\n",
      "3   ham  U dun say so early hor... U c already then say...\n",
      "4   ham  Nah I don't think he goes to usf, he lives aro...\n"
     ]
    }
   ],
   "execution_count": 4
  },
  {
   "metadata": {},
   "cell_type": "markdown",
   "source": "Clean and Prepare Data",
   "id": "3ee99edb301c5d95"
  },
  {
   "cell_type": "code",
   "id": "2c11ee3ad92c57fc",
   "metadata": {
    "ExecuteTime": {
     "end_time": "2025-05-02T21:52:13.435169Z",
     "start_time": "2025-05-02T21:52:13.411832Z"
    }
   },
   "source": [
    "# Rename columns\n",
    "spam = spam[['v1', 'v2']]\n",
    "spam.columns = ['label', 'message']\n",
    "\n",
    "# Check dataset size\n",
    "print(spam.shape)\n",
    "\n",
    "# Class distribution\n",
    "print(spam.groupby('label').size())\n"
   ],
   "outputs": [
    {
     "name": "stdout",
     "output_type": "stream",
     "text": [
      "(5572, 2)\n",
      "label\n",
      "ham     4825\n",
      "spam     747\n",
      "dtype: int64\n"
     ]
    }
   ],
   "execution_count": 5
  },
  {
   "metadata": {},
   "cell_type": "markdown",
   "source": "Plot Class Distribution",
   "id": "4f4244f65632066a"
  },
  {
   "cell_type": "code",
   "id": "d365b65dbd5081f3",
   "metadata": {
    "ExecuteTime": {
     "end_time": "2025-05-02T21:52:16.472733Z",
     "start_time": "2025-05-02T21:52:16.110127Z"
    }
   },
   "source": [
    "# Plot label distribution\n",
    "spam['label'].value_counts().plot(kind='bar', color=['red', 'green'])\n",
    "plt.title('Spam vs Not Spam Distribution')\n",
    "plt.xlabel('Label')\n",
    "plt.ylabel('Count')\n",
    "plt.xticks(rotation=0)\n",
    "plt.show()\n"
   ],
   "outputs": [
    {
     "data": {
      "text/plain": [
       "<Figure size 640x480 with 1 Axes>"
      ],
      "image/png": "[encoded data removed]"
     },
     "metadata": {},
     "output_type": "display_data"
    }
   ],
   "execution_count": 6
  },
  {
   "metadata": {},
   "cell_type": "markdown",
   "source": "Preprocess the Text",
   "id": "c8339fc16ca3c265"
  },
  {
   "cell_type": "code",
   "id": "3b67b44647d9cb79",
   "metadata": {
    "ExecuteTime": {
     "end_time": "2025-05-02T21:52:41.155169Z",
     "start_time": "2025-05-02T21:52:28.914212Z"
    }
   },
   "source": [
    "# Preprocessing the text data\n",
    "ps = PorterStemmer()\n",
    "corpus = []\n",
    "\n",
    "for i in range(0, len(spam)):\n",
    "    review = re.sub('[^a-zA-Z]', ' ', spam['message'][i])\n",
    "    review = review.lower()\n",
    "    review = review.split()\n",
    "    review = [ps.stem(word) for word in review if not word in stopwords.words('english')]\n",
    "    review = ' '.join(review)\n",
    "    corpus.append(review)\n",
    "\n",
    "# Show first 5 preprocessed texts\n",
    "print(corpus[:5])\n"
   ],
   "outputs": [
    {
     "name": "stdout",
     "output_type": "stream",
     "text": [
      "['go jurong point crazi avail bugi n great world la e buffet cine got amor wat', 'ok lar joke wif u oni', 'free entri wkli comp win fa cup final tkt st may text fa receiv entri question std txt rate c appli', 'u dun say earli hor u c alreadi say', 'nah think goe usf live around though']\n"
     ]
    }
   ],
   "execution_count": 7
  },
  {
   "metadata": {},
   "cell_type": "markdown",
   "source": "Create Bag of Words Model",
   "id": "731bac0e9a3b1ee9"
  },
  {
   "cell_type": "code",
   "id": "32e010ce89ffc5a0",
   "metadata": {
    "ExecuteTime": {
     "end_time": "2025-05-02T21:52:44.342721Z",
     "start_time": "2025-05-02T21:52:44.161656Z"
    }
   },
   "source": [
    "# Creating Bag of Words\n",
    "cv = CountVectorizer(max_features=4000)\n",
    "X = cv.fit_transform(corpus).toarray()\n",
    "\n",
    "# Prepare target variable\n",
    "Y = pd.get_dummies(spam['label'])\n",
    "Y = Y.iloc[:, 1].values\n"
   ],
   "outputs": [],
   "execution_count": 8
  },
  {
   "metadata": {},
   "cell_type": "markdown",
   "source": "Train-Test Split",
   "id": "f516c8492a38c423"
  },
  {
   "cell_type": "code",
   "id": "71560f062a1631b0",
   "metadata": {
    "ExecuteTime": {
     "end_time": "2025-05-02T21:52:48.176696Z",
     "start_time": "2025-05-02T21:52:47.951995Z"
    }
   },
   "source": [
    "# Split into training and testing sets\n",
    "X_train, X_test, Y_train, Y_test = train_test_split(X, Y, test_size=0.20, random_state=42)\n"
   ],
   "outputs": [],
   "execution_count": 9
  },
  {
   "metadata": {},
   "cell_type": "markdown",
   "source": "Train Models",
   "id": "b2979ffcfdd5cad2"
  },
  {
   "cell_type": "code",
   "id": "aeccac6232e61877",
   "metadata": {
    "ExecuteTime": {
     "end_time": "2025-05-02T21:53:27.971478Z",
     "start_time": "2025-05-02T21:52:50.713431Z"
    }
   },
   "source": [
    "# Train models\n",
    "model1 = RandomForestClassifier()\n",
    "model1.fit(X_train, Y_train)\n",
    "\n",
    "model2 = DecisionTreeClassifier()\n",
    "model2.fit(X_train, Y_train)\n",
    "\n",
    "model3 = MultinomialNB()\n",
    "model3.fit(X_train, Y_train)\n"
   ],
   "outputs": [
    {
     "data": {
      "text/plain": [
       "MultinomialNB()"
      ],
      "text/html": [
       "<style>#sk-container-id-1 {\n",
       "  /* Definition of color scheme common for light and dark mode */\n",
       "  --sklearn-color-text: #000;\n",
       "  --sklearn-color-text-muted: #666;\n",
       "  --sklearn-color-line: gray;\n",
       "  /* Definition of color scheme for unfitted estimators */\n",
       "  --sklearn-color-unfitted-level-0: #fff5e6;\n",
       "  --sklearn-color-unfitted-level-1: #f6e4d2;\n",
       "  --sklearn-color-unfitted-level-2: #ffe0b3;\n",
       "  --sklearn-color-unfitted-level-3: chocolate;\n",
       "  /* Definition of color scheme for fitted estimators */\n",
       "  --sklearn-color-fitted-level-0: #f0f8ff;\n",
       "  --sklearn-color-fitted-level-1: #d4ebff;\n",
       "  --sklearn-color-fitted-level-2: #b3dbfd;\n",
       "  --sklearn-color-fitted-level-3: cornflowerblue;\n",
       "\n",
       "  /* Specific color for light theme */\n",
       "  --sklearn-color-text-on-default-background: var(--sg-text-color, var(--theme-code-foreground, var(--jp-content-font-color1, black)));\n",
       "  --sklearn-color-background: var(--sg-background-color, var(--theme-background, var(--jp-layout-color0, white)));\n",
       "  --sklearn-color-border-box: var(--sg-text-color, var(--theme-code-foreground, var(--jp-content-font-color1, black)));\n",
       "  --sklearn-color-icon: #696969;\n",
       "\n",
       "  @media (prefers-color-scheme: dark) {\n",
       "    /* Redefinition of color scheme for dark theme */\n",
       "    --sklearn-color-text-on-default-background: var(--sg-text-color, var(--theme-code-foreground, var(--jp-content-font-color1, white)));\n",
       "    --sklearn-color-background: var(--sg-background-color, var(--theme-background, var(--jp-layout-color0, #111)));\n",
       "    --sklearn-color-border-box: var(--sg-text-color, var(--theme-code-foreground, var(--jp-content-font-color1, white)));\n",
       "    --sklearn-color-icon: #878787;\n",
       "  }\n",
       "}\n",
       "\n",
       "#sk-container-id-1 {\n",
       "  color: var(--sklearn-color-text);\n",
       "}\n",
       "\n",
       "#sk-container-id-1 pre {\n",
       "  padding: 0;\n",
       "}\n",
       "\n",
       "#sk-container-id-1 input.sk-hidden--visually {\n",
       "  border: 0;\n",
       "  clip: rect(1px 1px 1px 1px);\n",
       "  clip: rect(1px, 1px, 1px, 1px);\n",
       "  height: 1px;\n",
       "  margin: -1px;\n",
       "  overflow: hidden;\n",
       "  padding: 0;\n",
       "  position: absolute;\n",
       "  width: 1px;\n",
       "}\n",
       "\n",
       "#sk-container-id-1 div.sk-dashed-wrapped {\n",
       "  border: 1px dashed var(--sklearn-color-line);\n",
       "  margin: 0 0.4em 0.5em 0.4em;\n",
       "  box-sizing: border-box;\n",
       "  padding-bottom: 0.4em;\n",
       "  background-color: var(--sklearn-color-background);\n",
       "}\n",
       "\n",
       "#sk-container-id-1 div.sk-container {\n",
       "  /* jupyter's `normalize.less` sets `[hidden] { display: none; }`\n",
       "     but bootstrap.min.css set `[hidden] { display: none !important; }`\n",
       "     so we also need the `!important` here to be able to override the\n",
       "     default hidden behavior on the sphinx rendered scikit-learn.org.\n",
       "     See: https://github.com/scikit-learn/scikit-learn/issues/21755 */\n",
       "  display: inline-block !important;\n",
       "  position: relative;\n",
       "}\n",
       "\n",
       "#sk-container-id-1 div.sk-text-repr-fallback {\n",
       "  display: none;\n",
       "}\n",
       "\n",
       "div.sk-parallel-item,\n",
       "div.sk-serial,\n",
       "div.sk-item {\n",
       "  /* draw centered vertical line to link estimators */\n",
       "  background-image: linear-gradient(var(--sklearn-color-text-on-default-background), var(--sklearn-color-text-on-default-background));\n",
       "  background-size: 2px 100%;\n",
       "  background-repeat: no-repeat;\n",
       "  background-position: center center;\n",
       "}\n",
       "\n",
       "/* Parallel-specific style estimator block */\n",
       "\n",
       "#sk-container-id-1 div.sk-parallel-item::after {\n",
       "  content: \"\";\n",
       "  width: 100%;\n",
       "  border-bottom: 2px solid var(--sklearn-color-text-on-default-background);\n",
       "  flex-grow: 1;\n",
       "}\n",
       "\n",
       "#sk-container-id-1 div.sk-parallel {\n",
       "  display: flex;\n",
       "  align-items: stretch;\n",
       "  justify-content: center;\n",
       "  background-color: var(--sklearn-color-background);\n",
       "  position: relative;\n",
       "}\n",
       "\n",
       "#sk-container-id-1 div.sk-parallel-item {\n",
       "  display: flex;\n",
       "  flex-direction: column;\n",
       "}\n",
       "\n",
       "#sk-container-id-1 div.sk-parallel-item:first-child::after {\n",
       "  align-self: flex-end;\n",
       "  width: 50%;\n",
       "}\n",
       "\n",
       "#sk-container-id-1 div.sk-parallel-item:last-child::after {\n",
       "  align-self: flex-start;\n",
       "  width: 50%;\n",
       "}\n",
       "\n",
       "#sk-container-id-1 div.sk-parallel-item:only-child::after {\n",
       "  width: 0;\n",
       "}\n",
       "\n",
       "/* Serial-specific style estimator block */\n",
       "\n",
       "#sk-container-id-1 div.sk-serial {\n",
       "  display: flex;\n",
       "  flex-direction: column;\n",
       "  align-items: center;\n",
       "  background-color: var(--sklearn-color-background);\n",
       "  padding-right: 1em;\n",
       "  padding-left: 1em;\n",
       "}\n",
       "\n",
       "\n",
       "/* Toggleable style: style used for estimator/Pipeline/ColumnTransformer box that is\n",
       "clickable and can be expanded/collapsed.\n",
       "- Pipeline and ColumnTransformer use this feature and define the default style\n",
       "- Estimators will overwrite some part of the style using the `sk-estimator` class\n",
       "*/\n",
       "\n",
       "/* Pipeline and ColumnTransformer style (default) */\n",
       "\n",
       "#sk-container-id-1 div.sk-toggleable {\n",
       "  /* Default theme specific background. It is overwritten whether we have a\n",
       "  specific estimator or a Pipeline/ColumnTransformer */\n",
       "  background-color: var(--sklearn-color-background);\n",
       "}\n",
       "\n",
       "/* Toggleable label */\n",
       "#sk-container-id-1 label.sk-toggleable__label {\n",
       "  cursor: pointer;\n",
       "  display: flex;\n",
       "  width: 100%;\n",
       "  margin-bottom: 0;\n",
       "  padding: 0.5em;\n",
       "  box-sizing: border-box;\n",
       "  text-align: center;\n",
       "  align-items: start;\n",
       "  justify-content: space-between;\n",
       "  gap: 0.5em;\n",
       "}\n",
       "\n",
       "#sk-container-id-1 label.sk-toggleable__label .caption {\n",
       "  font-size: 0.6rem;\n",
       "  font-weight: lighter;\n",
       "  color: var(--sklearn-color-text-muted);\n",
       "}\n",
       "\n",
       "#sk-container-id-1 label.sk-toggleable__label-arrow:before {\n",
       "  /* Arrow on the left of the label */\n",
       "  content: \"▸\";\n",
       "  float: left;\n",
       "  margin-right: 0.25em;\n",
       "  color: var(--sklearn-color-icon);\n",
       "}\n",
       "\n",
       "#sk-container-id-1 label.sk-toggleable__label-arrow:hover:before {\n",
       "  color: var(--sklearn-color-text);\n",
       "}\n",
       "\n",
       "/* Toggleable content - dropdown */\n",
       "\n",
       "#sk-container-id-1 div.sk-toggleable__content {\n",
       "  max-height: 0;\n",
       "  max-width: 0;\n",
       "  overflow: hidden;\n",
       "  text-align: left;\n",
       "  /* unfitted */\n",
       "  background-color: var(--sklearn-color-unfitted-level-0);\n",
       "}\n",
       "\n",
       "#sk-container-id-1 div.sk-toggleable__content.fitted {\n",
       "  /* fitted */\n",
       "  background-color: var(--sklearn-color-fitted-level-0);\n",
       "}\n",
       "\n",
       "#sk-container-id-1 div.sk-toggleable__content pre {\n",
       "  margin: 0.2em;\n",
       "  border-radius: 0.25em;\n",
       "  color: var(--sklearn-color-text);\n",
       "  /* unfitted */\n",
       "  background-color: var(--sklearn-color-unfitted-level-0);\n",
       "}\n",
       "\n",
       "#sk-container-id-1 div.sk-toggleable__content.fitted pre {\n",
       "  /* unfitted */\n",
       "  background-color: var(--sklearn-color-fitted-level-0);\n",
       "}\n",
       "\n",
       "#sk-container-id-1 input.sk-toggleable__control:checked~div.sk-toggleable__content {\n",
       "  /* Expand drop-down */\n",
       "  max-height: 200px;\n",
       "  max-width: 100%;\n",
       "  overflow: auto;\n",
       "}\n",
       "\n",
       "#sk-container-id-1 input.sk-toggleable__control:checked~label.sk-toggleable__label-arrow:before {\n",
       "  content: \"▾\";\n",
       "}\n",
       "\n",
       "/* Pipeline/ColumnTransformer-specific style */\n",
       "\n",
       "#sk-container-id-1 div.sk-label input.sk-toggleable__control:checked~label.sk-toggleable__label {\n",
       "  color: var(--sklearn-color-text);\n",
       "  background-color: var(--sklearn-color-unfitted-level-2);\n",
       "}\n",
       "\n",
       "#sk-container-id-1 div.sk-label.fitted input.sk-toggleable__control:checked~label.sk-toggleable__label {\n",
       "  background-color: var(--sklearn-color-fitted-level-2);\n",
       "}\n",
       "\n",
       "/* Estimator-specific style */\n",
       "\n",
       "/* Colorize estimator box */\n",
       "#sk-container-id-1 div.sk-estimator input.sk-toggleable__control:checked~label.sk-toggleable__label {\n",
       "  /* unfitted */\n",
       "  background-color: var(--sklearn-color-unfitted-level-2);\n",
       "}\n",
       "\n",
       "#sk-container-id-1 div.sk-estimator.fitted input.sk-toggleable__control:checked~label.sk-toggleable__label {\n",
       "  /* fitted */\n",
       "  background-color: var(--sklearn-color-fitted-level-2);\n",
       "}\n",
       "\n",
       "#sk-container-id-1 div.sk-label label.sk-toggleable__label,\n",
       "#sk-container-id-1 div.sk-label label {\n",
       "  /* The background is the default theme color */\n",
       "  color: var(--sklearn-color-text-on-default-background);\n",
       "}\n",
       "\n",
       "/* On hover, darken the color of the background */\n",
       "#sk-container-id-1 div.sk-label:hover label.sk-toggleable__label {\n",
       "  color: var(--sklearn-color-text);\n",
       "  background-color: var(--sklearn-color-unfitted-level-2);\n",
       "}\n",
       "\n",
       "/* Label box, darken color on hover, fitted */\n",
       "#sk-container-id-1 div.sk-label.fitted:hover label.sk-toggleable__label.fitted {\n",
       "  color: var(--sklearn-color-text);\n",
       "  background-color: var(--sklearn-color-fitted-level-2);\n",
       "}\n",
       "\n",
       "/* Estimator label */\n",
       "\n",
       "#sk-container-id-1 div.sk-label label {\n",
       "  font-family: monospace;\n",
       "  font-weight: bold;\n",
       "  display: inline-block;\n",
       "  line-height: 1.2em;\n",
       "}\n",
       "\n",
       "#sk-container-id-1 div.sk-label-container {\n",
       "  text-align: center;\n",
       "}\n",
       "\n",
       "/* Estimator-specific */\n",
       "#sk-container-id-1 div.sk-estimator {\n",
       "  font-family: monospace;\n",
       "  border: 1px dotted var(--sklearn-color-border-box);\n",
       "  border-radius: 0.25em;\n",
       "  box-sizing: border-box;\n",
       "  margin-bottom: 0.5em;\n",
       "  /* unfitted */\n",
       "  background-color: var(--sklearn-color-unfitted-level-0);\n",
       "}\n",
       "\n",
       "#sk-container-id-1 div.sk-estimator.fitted {\n",
       "  /* fitted */\n",
       "  background-color: var(--sklearn-color-fitted-level-0);\n",
       "}\n",
       "\n",
       "/* on hover */\n",
       "#sk-container-id-1 div.sk-estimator:hover {\n",
       "  /* unfitted */\n",
       "  background-color: var(--sklearn-color-unfitted-level-2);\n",
       "}\n",
       "\n",
       "#sk-container-id-1 div.sk-estimator.fitted:hover {\n",
       "  /* fitted */\n",
       "  background-color: var(--sklearn-color-fitted-level-2);\n",
       "}\n",
       "\n",
       "/* Specification for estimator info (e.g. \"i\" and \"?\") */\n",
       "\n",
       "/* Common style for \"i\" and \"?\" */\n",
       "\n",
       ".sk-estimator-doc-link,\n",
       "a:link.sk-estimator-doc-link,\n",
       "a:visited.sk-estimator-doc-link {\n",
       "  float: right;\n",
       "  font-size: smaller;\n",
       "  line-height: 1em;\n",
       "  font-family: monospace;\n",
       "  background-color: var(--sklearn-color-background);\n",
       "  border-radius: 1em;\n",
       "  height: 1em;\n",
       "  width: 1em;\n",
       "  text-decoration: none !important;\n",
       "  margin-left: 0.5em;\n",
       "  text-align: center;\n",
       "  /* unfitted */\n",
       "  border: var(--sklearn-color-unfitted-level-1) 1pt solid;\n",
       "  color: var(--sklearn-color-unfitted-level-1);\n",
       "}\n",
       "\n",
       ".sk-estimator-doc-link.fitted,\n",
       "a:link.sk-estimator-doc-link.fitted,\n",
       "a:visited.sk-estimator-doc-link.fitted {\n",
       "  /* fitted */\n",
       "  border: var(--sklearn-color-fitted-level-1) 1pt solid;\n",
       "  color: var(--sklearn-color-fitted-level-1);\n",
       "}\n",
       "\n",
       "/* On hover */\n",
       "div.sk-estimator:hover .sk-estimator-doc-link:hover,\n",
       ".sk-estimator-doc-link:hover,\n",
       "div.sk-label-container:hover .sk-estimator-doc-link:hover,\n",
       ".sk-estimator-doc-link:hover {\n",
       "  /* unfitted */\n",
       "  background-color: var(--sklearn-color-unfitted-level-3);\n",
       "  color: var(--sklearn-color-background);\n",
       "  text-decoration: none;\n",
       "}\n",
       "\n",
       "div.sk-estimator.fitted:hover .sk-estimator-doc-link.fitted:hover,\n",
       ".sk-estimator-doc-link.fitted:hover,\n",
       "div.sk-label-container:hover .sk-estimator-doc-link.fitted:hover,\n",
       ".sk-estimator-doc-link.fitted:hover {\n",
       "  /* fitted */\n",
       "  background-color: var(--sklearn-color-fitted-level-3);\n",
       "  color: var(--sklearn-color-background);\n",
       "  text-decoration: none;\n",
       "}\n",
       "\n",
       "/* Span, style for the box shown on hovering the info icon */\n",
       ".sk-estimator-doc-link span {\n",
       "  display: none;\n",
       "  z-index: 9999;\n",
       "  position: relative;\n",
       "  font-weight: normal;\n",
       "  right: .2ex;\n",
       "  padding: .5ex;\n",
       "  margin: .5ex;\n",
       "  width: min-content;\n",
       "  min-width: 20ex;\n",
       "  max-width: 50ex;\n",
       "  color: var(--sklearn-color-text);\n",
       "  box-shadow: 2pt 2pt 4pt #999;\n",
       "  /* unfitted */\n",
       "  background: var(--sklearn-color-unfitted-level-0);\n",
       "  border: .5pt solid var(--sklearn-color-unfitted-level-3);\n",
       "}\n",
       "\n",
       ".sk-estimator-doc-link.fitted span {\n",
       "  /* fitted */\n",
       "  background: var(--sklearn-color-fitted-level-0);\n",
       "  border: var(--sklearn-color-fitted-level-3);\n",
       "}\n",
       "\n",
       ".sk-estimator-doc-link:hover span {\n",
       "  display: block;\n",
       "}\n",
       "\n",
       "/* \"?\"-specific style due to the `<a>` HTML tag */\n",
       "\n",
       "#sk-container-id-1 a.estimator_doc_link {\n",
       "  float: right;\n",
       "  font-size: 1rem;\n",
       "  line-height: 1em;\n",
       "  font-family: monospace;\n",
       "  background-color: var(--sklearn-color-background);\n",
       "  border-radius: 1rem;\n",
       "  height: 1rem;\n",
       "  width: 1rem;\n",
       "  text-decoration: none;\n",
       "  /* unfitted */\n",
       "  color: var(--sklearn-color-unfitted-level-1);\n",
       "  border: var(--sklearn-color-unfitted-level-1) 1pt solid;\n",
       "}\n",
       "\n",
       "#sk-container-id-1 a.estimator_doc_link.fitted {\n",
       "  /* fitted */\n",
       "  border: var(--sklearn-color-fitted-level-1) 1pt solid;\n",
       "  color: var(--sklearn-color-fitted-level-1);\n",
       "}\n",
       "\n",
       "/* On hover */\n",
       "#sk-container-id-1 a.estimator_doc_link:hover {\n",
       "  /* unfitted */\n",
       "  background-color: var(--sklearn-color-unfitted-level-3);\n",
       "  color: var(--sklearn-color-background);\n",
       "  text-decoration: none;\n",
       "}\n",
       "\n",
       "#sk-container-id-1 a.estimator_doc_link.fitted:hover {\n",
       "  /* fitted */\n",
       "  background-color: var(--sklearn-color-fitted-level-3);\n",
       "}\n",
       "</style><div id=\"sk-container-id-1\" class=\"sk-top-container\"><div class=\"sk-text-repr-fallback\"><pre>MultinomialNB()</pre><b>In a Jupyter environment, please rerun this cell to show the HTML representation or trust the notebook. <br />On GitHub, the HTML representation is unable to render, please try loading this page with nbviewer.org.</b></div><div class=\"sk-container\" hidden><div class=\"sk-item\"><div class=\"sk-estimator fitted sk-toggleable\"><input class=\"sk-toggleable__control sk-hidden--visually\" id=\"sk-estimator-id-1\" type=\"checkbox\" checked><label for=\"sk-estimator-id-1\" class=\"sk-toggleable__label fitted sk-toggleable__label-arrow\"><div><div>MultinomialNB</div></div><div><a class=\"sk-estimator-doc-link fitted\" rel=\"noreferrer\" target=\"_blank\" href=\"https://scikit-learn.org/1.6/modules/generated/sklearn.naive_bayes.MultinomialNB.html\">?<span>Documentation for MultinomialNB</span></a><span class=\"sk-estimator-doc-link fitted\">i<span>Fitted</span></span></div></label><div class=\"sk-toggleable__content fitted\"><pre>MultinomialNB()</pre></div> </div></div></div></div>"
      ]
     },
     "execution_count": 10,
     "metadata": {},
     "output_type": "execute_result"
    }
   ],
   "execution_count": 10
  },
  {
   "metadata": {},
   "cell_type": "markdown",
   "source": "Make Predictions",
   "id": "ae408590612acd84"
  },
  {
   "cell_type": "code",
   "id": "65a7f4037e8aae34",
   "metadata": {
    "ExecuteTime": {
     "end_time": "2025-05-02T21:53:31.906226Z",
     "start_time": "2025-05-02T21:53:31.708134Z"
    }
   },
   "source": [
    "# Make predictions\n",
    "pred1 = model1.predict(X_test)\n",
    "pred2 = model2.predict(X_test)\n",
    "pred3 = model3.predict(X_test)\n"
   ],
   "outputs": [],
   "execution_count": 11
  },
  {
   "metadata": {},
   "cell_type": "markdown",
   "source": "Evaluate Models (Confusion Matrices)",
   "id": "159a4fe765ced3c7"
  },
  {
   "cell_type": "code",
   "id": "79a17485caf2911e",
   "metadata": {
    "ExecuteTime": {
     "end_time": "2025-05-02T21:53:35.466340Z",
     "start_time": "2025-05-02T21:53:35.448067Z"
    }
   },
   "source": [
    "# Random Forest Confusion Matrix\n",
    "cm1 = confusion_matrix(Y_test, pred1)\n",
    "print(\"Random Forest Confusion Matrix: \\n\", cm1)\n",
    "print(\"Random Forest Accuracy: \", accuracy_score(Y_test, pred1))\n",
    "\n",
    "# Decision Tree Confusion Matrix\n",
    "cm2 = confusion_matrix(Y_test, pred2)\n",
    "print(\"Decision Tree Confusion Matrix: \\n\", cm2)\n",
    "print(\"Decision Tree Accuracy: \", accuracy_score(Y_test, pred2))\n",
    "\n",
    "# Multinomial Naive Bayes Confusion Matrix\n",
    "cm3 = confusion_matrix(Y_test, pred3)\n",
    "print(\"Multinomial Naive Bayes Confusion Matrix: \\n\", cm3)\n",
    "print(\"Multinomial Naive Bayes Accuracy: \", accuracy_score(Y_test, pred3))\n"
   ],
   "outputs": [
    {
     "name": "stdout",
     "output_type": "stream",
     "text": [
      "Random Forest Confusion Matrix: \n",
      " [[966   0]\n",
      " [ 23 126]]\n",
      "Random Forest Accuracy:  0.979372197309417\n",
      "Decision Tree Confusion Matrix: \n",
      " [[952  14]\n",
      " [ 17 132]]\n",
      "Decision Tree Accuracy:  0.9721973094170404\n",
      "Multinomial Naive Bayes Confusion Matrix: \n",
      " [[953  13]\n",
      " [  9 140]]\n",
      "Multinomial Naive Bayes Accuracy:  0.9802690582959641\n"
     ]
    }
   ],
   "execution_count": 13
  },
  {
   "metadata": {},
   "cell_type": "markdown",
   "source": " Plot Confusion Matrices",
   "id": "f65fcfa0999b63ce"
  },
  {
   "cell_type": "code",
   "id": "3a207110838dec90",
   "metadata": {
    "ExecuteTime": {
     "end_time": "2025-05-02T21:53:40.313730Z",
     "start_time": "2025-05-02T21:53:39.830687Z"
    }
   },
   "source": [
    "# Random Forest Confusion Matrix Heatmap\n",
    "plt.figure(figsize=(8, 6))\n",
    "sns.heatmap(cm1, annot=True, fmt='d', cmap='Blues', xticklabels=['Not Spam', 'Spam'], yticklabels=['Not Spam', 'Spam'])\n",
    "plt.title('Confusion Matrix - Random Forest Classifier')\n",
    "plt.xlabel('Predicted Label')\n",
    "plt.ylabel('True Label')\n",
    "plt.show()\n",
    "\n",
    "# Decision Tree Confusion Matrix Heatmap\n",
    "plt.figure(figsize=(8, 6))\n",
    "sns.heatmap(cm2, annot=True, fmt='d', cmap='Blues', xticklabels=['Not Spam', 'Spam'], yticklabels=['Not Spam', 'Spam'])\n",
    "plt.title('Confusion Matrix - Decision Tree Classifier')\n",
    "plt.xlabel('Predicted Label')\n",
    "plt.ylabel('True Label')\n",
    "plt.show()\n",
    "\n",
    "# Multinomial Naive Bayes Confusion Matrix Heatmap\n",
    "plt.figure(figsize=(8, 6))\n",
    "sns.heatmap(cm3, annot=True, fmt='d', cmap='Blues', xticklabels=['Not Spam', 'Spam'], yticklabels=['Not Spam', 'Spam'])\n",
    "plt.title('Confusion Matrix - Multinomial Naive Bayes')\n",
    "plt.xlabel('Predicted Label')\n",
    "plt.ylabel('True Label')\n",
    "plt.show()\n"
   ],
   "outputs": [
    {
     "data": {
      "text/plain": [
       "<Figure size 800x600 with 2 Axes>"
      ],
      "image/png": "[encoded data removed]"
     },
     "metadata": {},
     "output_type": "display_data"
    },
    {
     "data": {
      "text/plain": [
       "<Figure size 800x600 with 2 Axes>"
      ],
      "image/png": "[encoded data removed]"
     },
     "metadata": {},
     "output_type": "display_data"
    },
    {
     "data": {
      "text/plain": [
       "<Figure size 800x600 with 2 Axes>"
      ],
      "image/png": "[encoded data removed]"
     },
     "metadata": {},
     "output_type": "display_data"
    }
   ],
   "execution_count": 14
  },
  {
   "metadata": {},
   "cell_type": "markdown",
   "source": "Plot Model Accuracy Comparison",
   "id": "4fa8c80577f62299"
  },
  {
   "cell_type": "code",
   "id": "bd48aac15e6849fa",
   "metadata": {
    "ExecuteTime": {
     "end_time": "2025-05-02T21:53:45.709479Z",
     "start_time": "2025-05-02T21:53:45.559757Z"
    }
   },
   "source": [
    "# Model accuracy comparison\n",
    "accuracies = {\n",
    "    'Random Forest': accuracy_score(Y_test, pred1),\n",
    "    'Decision Tree': accuracy_score(Y_test, pred2),\n",
    "    'Multinomial Naive Bayes': accuracy_score(Y_test, pred3)\n",
    "}\n",
    "\n",
    "plt.bar(accuracies.keys(), accuracies.values(), color=['blue', 'orange', 'green'])\n",
    "plt.title('Model Accuracy Comparison')\n",
    "plt.xlabel('Model')\n",
    "plt.ylabel('Accuracy')\n",
    "plt.ylim(0, 1)\n",
    "plt.show()\n"
   ],
   "outputs": [
    {
     "data": {
      "text/plain": [
       "<Figure size 640x480 with 1 Axes>"
      ],
      "image/png": "[encoded data removed]"
     },
     "metadata": {},
     "output_type": "display_data"
    }
   ],
   "execution_count": 15
  },
  {
   "metadata": {},
   "cell_type": "markdown",
   "source": "Print Classification Reports",
   "id": "8e9da8c053b7f853"
  },
  {
   "cell_type": "code",
   "id": "6ed4151f7b2c1058",
   "metadata": {
    "ExecuteTime": {
     "end_time": "2025-05-02T21:53:49.134630Z",
     "start_time": "2025-05-02T21:53:49.087117Z"
    }
   },
   "source": [
    "# Classification reports\n",
    "report1 = classification_report(Y_test, pred1)\n",
    "print(\"Classification Report for Random Forest: \\n\", report1)\n",
    "\n",
    "report2 = classification_report(Y_test, pred2)\n",
    "print(\"Classification Report for Decision Tree: \\n\", report2)\n",
    "\n",
    "report3 = classification_report(Y_test, pred3)\n",
    "print(\"Classification Report for Multinomial Naive Bayes: \\n\", report3)\n",
    "\n",
    "print(\"\\nBest Model: Multinomial Naive Bayes\")\n"
   ],
   "outputs": [
    {
     "name": "stdout",
     "output_type": "stream",
     "text": [
      "Classification Report for Random Forest: \n",
      "               precision    recall  f1-score   support\n",
      "\n",
      "       False       0.98      1.00      0.99       966\n",
      "        True       1.00      0.85      0.92       149\n",
      "\n",
      "    accuracy                           0.98      1115\n",
      "   macro avg       0.99      0.92      0.95      1115\n",
      "weighted avg       0.98      0.98      0.98      1115\n",
      "\n",
      "Classification Report for Decision Tree: \n",
      "               precision    recall  f1-score   support\n",
      "\n",
      "       False       0.98      0.99      0.98       966\n",
      "        True       0.90      0.89      0.89       149\n",
      "\n",
      "    accuracy                           0.97      1115\n",
      "   macro avg       0.94      0.94      0.94      1115\n",
      "weighted avg       0.97      0.97      0.97      1115\n",
      "\n",
      "Classification Report for Multinomial Naive Bayes: \n",
      "               precision    recall  f1-score   support\n",
      "\n",
      "       False       0.99      0.99      0.99       966\n",
      "        True       0.92      0.94      0.93       149\n",
      "\n",
      "    accuracy                           0.98      1115\n",
      "   macro avg       0.95      0.96      0.96      1115\n",
      "weighted avg       0.98      0.98      0.98      1115\n",
      "\n",
      "\n",
      "Best Model: Multinomial Naive Bayes\n"
     ]
    }
   ],
   "execution_count": 16
  },
  {
   "metadata": {},
   "cell_type": "markdown",
   "source": "Save Models",
   "id": "14455f274c3cef99"
  },
  {
   "cell_type": "code",
   "id": "c4f68cfcff7c45a2",
   "metadata": {
    "ExecuteTime": {
     "end_time": "2025-05-02T21:53:53.857194Z",
     "start_time": "2025-05-02T21:53:53.795128Z"
    }
   },
   "source": [
    "# Save models\n",
    "filename = \"RFC.pkl\"\n",
    "pickle.dump(model1, open(filename, 'wb'))\n",
    "\n",
    "filename = \"DTC.pkl\"\n",
    "pickle.dump(model2, open(filename, 'wb'))\n",
    "\n",
    "filename = \"MNB.pkl\"\n",
    "pickle.dump(model3, open(filename, 'wb'))\n",
    "\n",
    "pickle.dump(cv, open(\"cv.pkl\", \"wb\"))  # Save the CountVectorizer\n",
    "\n",
    "print(\"Saved all models.\")\n"
   ],
   "outputs": [
    {
     "name": "stdout",
     "output_type": "stream",
     "text": [
      "Saved all models.\n"
     ]
    }
   ],
   "execution_count": 17
  },
  {
   "metadata": {},
   "cell_type": "markdown",
   "source": "Load Model and Preprocess New Email",
   "id": "e4642a9acda3bd66"
  },
  {
   "cell_type": "code",
   "id": "c6e3985cfb4a91ee",
   "metadata": {
    "ExecuteTime": {
     "end_time": "2025-05-02T21:53:58.467171Z",
     "start_time": "2025-05-02T21:53:58.452661Z"
    }
   },
   "source": [
    "# Load saved models\n",
    "model = pickle.load(open(\"MNB.pkl\", \"rb\"))\n",
    "cv = pickle.load(open(\"cv.pkl\", \"rb\"))\n",
    "\n",
    "# Preprocessing function\n",
    "def preprocess_text(text):\n",
    "    ps = PorterStemmer()\n",
    "    review = re.sub('[^a-zA-Z]', ' ', text)\n",
    "    review = review.lower().split()\n",
    "    review = [ps.stem(word) for word in review if word not in stopwords.words('english')]\n",
    "    return ' '.join(review)\n"
   ],
   "outputs": [],
   "execution_count": 18
  },
  {
   "metadata": {},
   "cell_type": "markdown",
   "source": "Predict New Email Text",
   "id": "139900270185c7e9"
  },
  {
   "cell_type": "code",
   "id": "80978016a8c0afc5",
   "metadata": {
    "ExecuteTime": {
     "end_time": "2025-05-02T21:54:26.139099Z",
     "start_time": "2025-05-02T21:54:26.122434Z"
    }
   },
   "source": [
    "# Input email\n",
    "email_text = \"Hello, I don’t have any updates on the project at this time. Could we cancel our meeting? Thank you\"\n",
    "\n",
    "# Preprocess\n",
    "processed_email = preprocess_text(email_text)\n",
    "\n",
    "# Convert to Bag of Words\n",
    "email_vector = cv.transform([processed_email]).toarray()\n",
    "\n",
    "# Prediction\n",
    "prediction = model.predict(email_vector)\n",
    "print(\"Prediction: Spam\" if prediction[0] == 1 else \"Prediction: Not Spam\")\n"
   ],
   "outputs": [
    {
     "name": "stdout",
     "output_type": "stream",
     "text": [
      "Prediction: Not Spam\n"
     ]
    }
   ],
   "execution_count": 19
  }
 ],
 "metadata": {
  "kernelspec": {
   "display_name": "Python 3 (ipykernel)",
   "language": "python",
   "name": "python3"
  },
  "language_info": {
   "codemirror_mode": {
    "name": "ipython",
    "version": 3
   },
   "file_extension": ".py",
   "mimetype": "text/x-python",
   "name": "python",
   "nbconvert_exporter": "python",
   "pygments_lexer": "ipython3",
   "version": "3.11.9"
  }
 },
 "nbformat": 4,
 "nbformat_minor": 5
}
